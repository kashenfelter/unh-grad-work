{
 "cells": [
  {
   "cell_type": "markdown",
   "metadata": {},
   "source": [
    "## 10p twitter api live sentiment"
   ]
  },
  {
   "cell_type": "code",
   "execution_count": 8,
   "metadata": {
    "collapsed": false
   },
   "outputs": [],
   "source": [
    "import tweepy\n",
    "import pandas as pd\n",
    "import matplotlib.pyplot as plt\n",
    "%matplotlib inline\n",
    "from pandasql import sqldf\n",
    "import numpy as np"
   ]
  },
  {
   "cell_type": "code",
   "execution_count": 9,
   "metadata": {
    "collapsed": true
   },
   "outputs": [],
   "source": [
    "consumer_key = \"3Ri7wGgGyg3MU9HDFIFuXhpsB\"\n",
    "consumer_secret = \"U71KtVtVcx73EABu92B5ZOiI7hm9M2S7xZet5nv1jUrZQp7TJZ\"\n",
    "\n",
    "auth = tweepy.OAuthHandler(consumer_key = consumer_key, consumer_secret = consumer_secret)\n",
    "\n",
    "api = tweepy.API(auth)"
   ]
  },
  {
   "cell_type": "code",
   "execution_count": 3,
   "metadata": {
    "collapsed": false
   },
   "outputs": [
    {
     "name": "stdout",
     "output_type": "stream",
     "text": [
      "300\n"
     ]
    }
   ],
   "source": [
    "results = []\n",
    "for tweet in tweepy.Cursor(api.search, q = \"Red Sox\").items(300):\n",
    "    results.append(tweet)\n",
    "\n",
    "print(len(results))"
   ]
  },
  {
   "cell_type": "code",
   "execution_count": 4,
   "metadata": {
    "collapsed": false,
    "scrolled": true
   },
   "outputs": [],
   "source": [
    "def process_results(results):\n",
    "    id_list = [tweet.id for tweet in results]\n",
    "    data_set = pd.DataFrame(id_list, columns = ['id'])\n",
    "    \n",
    "    # tweet data\n",
    "    data_set['text'] = [tweet.text for tweet in results]\n",
    "    data_set['created_at'] = [tweet.created_at for tweet in results]\n",
    "    data_set['retweet_count'] = [tweet.retweet_count for tweet in results]\n",
    "    data_set['favorite_count'] = [tweet.favorite_count for tweet in results]\n",
    "    data_set['source'] = [tweet.source for tweet in results]\n",
    "    \n",
    "    # user data\n",
    "    data_set['user_id'] = [tweet.author.id for tweet in results]\n",
    "    data_set['user_screen_name'] = [tweet.author.screen_name for tweet in results]\n",
    "    data_set['user_name'] = [tweet.author.name for tweet in results]\n",
    "    data_set['user_created_at'] = [tweet.author.created_at for tweet in results]\n",
    "    data_set['user_description'] = [tweet.author.description for tweet in results]\n",
    "    data_set['user_followers_count'] = [tweet.author.followers_count for tweet in results]\n",
    "    data_set['user_friends_count'] = [tweet.author.friends_count for tweet in results]\n",
    "    data_set['user_location'] = [tweet.author.location for tweet in results]\n",
    "    \n",
    "    return(data_set)\n",
    "\n",
    "data_set = process_results(results)\n",
    "\n"
   ]
  },
  {
   "cell_type": "code",
   "execution_count": 5,
   "metadata": {
    "collapsed": false,
    "scrolled": true
   },
   "outputs": [
    {
     "data": {
      "text/html": [
       "<div>\n",
       "<table border=\"1\" class=\"dataframe\">\n",
       "  <thead>\n",
       "    <tr style=\"text-align: right;\">\n",
       "      <th></th>\n",
       "      <th>id</th>\n",
       "      <th>text</th>\n",
       "      <th>created_at</th>\n",
       "      <th>retweet_count</th>\n",
       "      <th>favorite_count</th>\n",
       "      <th>source</th>\n",
       "      <th>user_id</th>\n",
       "      <th>user_screen_name</th>\n",
       "      <th>user_name</th>\n",
       "      <th>user_created_at</th>\n",
       "      <th>user_description</th>\n",
       "      <th>user_followers_count</th>\n",
       "      <th>user_friends_count</th>\n",
       "      <th>user_location</th>\n",
       "    </tr>\n",
       "  </thead>\n",
       "  <tbody>\n",
       "    <tr>\n",
       "      <th>0</th>\n",
       "      <td>786669726126702592</td>\n",
       "      <td>@TheSixFinger @dylan_275 as a Red Sox fan, it ...</td>\n",
       "      <td>2016-10-13 20:47:32</td>\n",
       "      <td>0</td>\n",
       "      <td>2</td>\n",
       "      <td>Twitter Web Client</td>\n",
       "      <td>15813075</td>\n",
       "      <td>deliciousmalk</td>\n",
       "      <td>Laszlo Panaflex</td>\n",
       "      <td>2008-08-11 20:03:29</td>\n",
       "      <td>The internet? On computers? We are truly livin...</td>\n",
       "      <td>272</td>\n",
       "      <td>540</td>\n",
       "      <td>Chicago, IL</td>\n",
       "    </tr>\n",
       "    <tr>\n",
       "      <th>1</th>\n",
       "      <td>786669722125361153</td>\n",
       "      <td>Boston Red Sox 47 Brand Clean Up Hat Adjustabl...</td>\n",
       "      <td>2016-10-13 20:47:32</td>\n",
       "      <td>0</td>\n",
       "      <td>0</td>\n",
       "      <td>IFTTT</td>\n",
       "      <td>2993407780</td>\n",
       "      <td>iftttinfo</td>\n",
       "      <td>searches</td>\n",
       "      <td>2015-01-23 01:26:10</td>\n",
       "      <td></td>\n",
       "      <td>2</td>\n",
       "      <td>0</td>\n",
       "      <td></td>\n",
       "    </tr>\n",
       "    <tr>\n",
       "      <th>2</th>\n",
       "      <td>786669689485324288</td>\n",
       "      <td>@RedSox 2B Pedroia has left knee surgery. http...</td>\n",
       "      <td>2016-10-13 20:47:24</td>\n",
       "      <td>0</td>\n",
       "      <td>0</td>\n",
       "      <td>Twitter Web Client</td>\n",
       "      <td>16521206</td>\n",
       "      <td>NBC10</td>\n",
       "      <td>NBC 10 WJAR</td>\n",
       "      <td>2008-09-30 00:36:10</td>\n",
       "      <td>Turn to 10 for news and weather coverage for R...</td>\n",
       "      <td>70621</td>\n",
       "      <td>516</td>\n",
       "      <td>Providence, Rhode Island</td>\n",
       "    </tr>\n",
       "    <tr>\n",
       "      <th>3</th>\n",
       "      <td>786669517996892160</td>\n",
       "      <td>Explains a lot! Guy is tough! RT @BDCSox: Red ...</td>\n",
       "      <td>2016-10-13 20:46:43</td>\n",
       "      <td>0</td>\n",
       "      <td>0</td>\n",
       "      <td>TweetCaster for iOS</td>\n",
       "      <td>81644173</td>\n",
       "      <td>SMarsh7818</td>\n",
       "      <td>Sheryl Marshall</td>\n",
       "      <td>2009-10-11 17:38:56</td>\n",
       "      <td>Excited to be working for @C4CBoston &amp; Coyle &amp;...</td>\n",
       "      <td>647</td>\n",
       "      <td>1243</td>\n",
       "      <td>ÜT: 41.881341,-71.094429</td>\n",
       "    </tr>\n",
       "    <tr>\n",
       "      <th>4</th>\n",
       "      <td>786669499176980480</td>\n",
       "      <td>@CatherineBogart I want this and you also owe ...</td>\n",
       "      <td>2016-10-13 20:46:38</td>\n",
       "      <td>0</td>\n",
       "      <td>1</td>\n",
       "      <td>Twitter for iPhone</td>\n",
       "      <td>515629507</td>\n",
       "      <td>Shapalicious</td>\n",
       "      <td>Jake Shapiro</td>\n",
       "      <td>2012-03-05 16:35:16</td>\n",
       "      <td>Colorado Buffaloes editor and Colorado Rockies...</td>\n",
       "      <td>1394</td>\n",
       "      <td>1175</td>\n",
       "      <td>Boulder, Colorado</td>\n",
       "    </tr>\n",
       "  </tbody>\n",
       "</table>\n",
       "</div>"
      ],
      "text/plain": [
       "                   id                                               text  \\\n",
       "0  786669726126702592  @TheSixFinger @dylan_275 as a Red Sox fan, it ...   \n",
       "1  786669722125361153  Boston Red Sox 47 Brand Clean Up Hat Adjustabl...   \n",
       "2  786669689485324288  @RedSox 2B Pedroia has left knee surgery. http...   \n",
       "3  786669517996892160  Explains a lot! Guy is tough! RT @BDCSox: Red ...   \n",
       "4  786669499176980480  @CatherineBogart I want this and you also owe ...   \n",
       "\n",
       "           created_at  retweet_count  favorite_count               source  \\\n",
       "0 2016-10-13 20:47:32              0               2   Twitter Web Client   \n",
       "1 2016-10-13 20:47:32              0               0                IFTTT   \n",
       "2 2016-10-13 20:47:24              0               0   Twitter Web Client   \n",
       "3 2016-10-13 20:46:43              0               0  TweetCaster for iOS   \n",
       "4 2016-10-13 20:46:38              0               1   Twitter for iPhone   \n",
       "\n",
       "      user_id user_screen_name        user_name     user_created_at  \\\n",
       "0    15813075    deliciousmalk  Laszlo Panaflex 2008-08-11 20:03:29   \n",
       "1  2993407780        iftttinfo         searches 2015-01-23 01:26:10   \n",
       "2    16521206            NBC10      NBC 10 WJAR 2008-09-30 00:36:10   \n",
       "3    81644173       SMarsh7818  Sheryl Marshall 2009-10-11 17:38:56   \n",
       "4   515629507     Shapalicious     Jake Shapiro 2012-03-05 16:35:16   \n",
       "\n",
       "                                    user_description  user_followers_count  \\\n",
       "0  The internet? On computers? We are truly livin...                   272   \n",
       "1                                                                        2   \n",
       "2  Turn to 10 for news and weather coverage for R...                 70621   \n",
       "3  Excited to be working for @C4CBoston & Coyle &...                   647   \n",
       "4  Colorado Buffaloes editor and Colorado Rockies...                  1394   \n",
       "\n",
       "   user_friends_count             user_location  \n",
       "0                 540               Chicago, IL  \n",
       "1                   0                            \n",
       "2                 516  Providence, Rhode Island  \n",
       "3                1243  ÜT: 41.881341,-71.094429  \n",
       "4                1175         Boulder, Colorado  "
      ]
     },
     "execution_count": 5,
     "metadata": {},
     "output_type": "execute_result"
    }
   ],
   "source": [
    "data_set.head()"
   ]
  },
  {
   "cell_type": "markdown",
   "metadata": {},
   "source": [
    "## Top 5 locations"
   ]
  },
  {
   "cell_type": "code",
   "execution_count": 10,
   "metadata": {
    "collapsed": false
   },
   "outputs": [
    {
     "data": {
      "image/png": "[encoded data removed]",
      "text/plain": [
       "<matplotlib.figure.Figure at 0x11bf98518>"
      ]
     },
     "metadata": {},
     "output_type": "display_data"
    }
   ],
   "source": [
    "location_plot = data_set['user_location'].value_counts()[1:8][::-1]\n",
    "\n",
    "plt.figure(figsize=(12, 8), dpi = 100)\n",
    "plt.barh(range(len(location_plot)), location_plot.values)\n",
    "plt.yticks(np.arange(len(location_plot)) + 0.4, location_plot.index, size = 20)\n",
    "plt.xticks(size = 20)\n",
    "plt.title(\"top 5 locations tweets were sent from\", size = 24)\n",
    "plt.show()"
   ]
  },
  {
   "cell_type": "code",
   "execution_count": null,
   "metadata": {
    "collapsed": false
   },
   "outputs": [],
   "source": [
    "import numpy as np\n",
    "location_plot = data_set['source'].value_counts()[:5][::-1]\n",
    "plt.figure(figsize=(12, 8), dpi = 100)\n",
    "plt.barh(range(len(location_plot)), location_plot.values)\n",
    "plt.yticks(np.arange(len(location_plot)) + 0.4, location_plot.index, size = 20)\n",
    "plt.xticks(size = 20)\n",
    "plt.title(\"top 5 sources used to send tweets\", size = 24)\n",
    "plt.show()"
   ]
  },
  {
   "cell_type": "markdown",
   "metadata": {},
   "source": [
    "## Number of users in Boston and/or MA "
   ]
  },
  {
   "cell_type": "code",
   "execution_count": null,
   "metadata": {
    "collapsed": false
   },
   "outputs": [],
   "source": [
    "loc_query = \"\"\"SELECT distinct(user_location) as location,\n",
    "            count(user_location), user_screen_name\n",
    "            FROM data_set\n",
    "            WHERE user_location LIKE '%Boston%'\n",
    "            OR user_location LIKE '%MA'\n",
    "            GROUP BY location\n",
    "            ORDER BY count(location) DESC\"\"\"\n",
    "print(sqldf(loc_query, locals()))"
   ]
  },
  {
   "cell_type": "code",
   "execution_count": null,
   "metadata": {
    "collapsed": false
   },
   "outputs": [],
   "source": [
    "import re\n",
    "searchstring = ''.join(str(e) for e in data_set['text'])\n",
    "searchstring = re.sub(r\"<a\\S+\", \"\", searchstring)\n",
    "cleansearchstring = str(re.sub('\\W+',',', searchstring))\n",
    "keys = cleansearchstring.split(\",\")"
   ]
  },
  {
   "cell_type": "code",
   "execution_count": null,
   "metadata": {
    "collapsed": false
   },
   "outputs": [],
   "source": [
    "word_counts = {}\n",
    "for word in keys:\n",
    "    word = word.lower()\n",
    "    if word in word_counts:\n",
    "        word_counts[word] += 1\n",
    "    else:\n",
    "        word_counts[word] = 1"
   ]
  },
  {
   "cell_type": "code",
   "execution_count": null,
   "metadata": {
    "collapsed": true
   },
   "outputs": [],
   "source": [
    "filtersearch = {k: v for k, v in word_counts.items() if v > 15}"
   ]
  },
  {
   "cell_type": "code",
   "execution_count": null,
   "metadata": {
    "collapsed": false
   },
   "outputs": [],
   "source": [
    "stopwords = ['x80','x83','x8a','x8c',\n",
    "            'x8d','x8e','x8f','x91',\n",
    "            'x92','x93','x94','x9a',\n",
    "            'x9c','x9f','xa3','xa6',\n",
    "            'xaa','xb8','xba','xbe',\n",
    "            'xe2','xef','xf0','a',\n",
    "            'all','amp','are','as',\n",
    "            'at','b','back','be',\n",
    "            'been','but','can','co','n',\n",
    "            'now','of','off','on','our',\n",
    "            'out', 'and', 't', 's', \n",
    "            'https', 'the', 'for', 'in', \n",
    "            'is', 'it', 'to', 'The', 'We',\n",
    "            'this', 'with', 'you', 'that', \n",
    "            'there', 'your', 'like', 'i',\n",
    "            'am', 'me', 'rt', 'm', 'dtype', 'thing',\n",
    "             'or', 'so','we', 'will', 'get', 'have', 'too',\n",
    "            'my', 'if']\n",
    "\n",
    "\n",
    "# build a list of keys (badword) that need removing, then remove them.\n",
    "# http://stackoverflow.com/questions/5447494/best-way-to-remove-an-item-from-a-python-dictionary\n",
    "\n",
    "keys_to_remove = [key for key, value in filtersearch.items()\n",
    "                  if key in stopwords]\n",
    "for key in keys_to_remove:\n",
    "    del filtersearch[key]"
   ]
  },
  {
   "cell_type": "code",
   "execution_count": null,
   "metadata": {
    "collapsed": false
   },
   "outputs": [],
   "source": [
    "# Transform the dictionary filteroct6 into a pandas data frame in order to plot\n",
    "dict_df = pd.DataFrame([filtersearch])\n",
    "dict_df = dict_df.T\n",
    "dict_df[\"Words\"] = dict_df.index\n",
    "dict_df['count'] = dict_df[0]\n",
    "del dict_df[0]"
   ]
  },
  {
   "cell_type": "code",
   "execution_count": null,
   "metadata": {
    "collapsed": false
   },
   "outputs": [],
   "source": [
    "# plot the new df generated from dictionary\n",
    "dict_df.plot(dict_df['Words'], kind= 'barh', colormap = 'cool', alpha = .6, grid = 'on', figsize = (28,16), legend = False, rot=0)\n",
    "plt.yticks(size = 20)\n",
    "plt.xticks(size = 24)\n",
    "plt.ylabel('')\n",
    "plt.title('Counting the occurrence of relevant words in @RedSox tweets', size = 30)\n",
    "plt.show()"
   ]
  },
  {
   "cell_type": "code",
   "execution_count": null,
   "metadata": {
    "collapsed": false
   },
   "outputs": [],
   "source": [
    "count = \"\"\"SELECT Words, count\n",
    "            FROM dict_df\n",
    "            ORDER BY count DESC\"\"\"\n",
    "print(sqldf(count, locals()))"
   ]
  },
  {
   "cell_type": "code",
   "execution_count": null,
   "metadata": {
    "collapsed": false
   },
   "outputs": [],
   "source": [
    "from os import path\n",
    "from wordcloud import WordCloud\n",
    "from scipy.misc import imread\n",
    "from wordcloud import WordCloud, STOPWORDS, ImageColorGenerator"
   ]
  },
  {
   "cell_type": "code",
   "execution_count": null,
   "metadata": {
    "collapsed": false
   },
   "outputs": [],
   "source": [
    "content = str(dict_df['Words'])\n",
    "CleanContent = content"
   ]
  },
  {
   "cell_type": "code",
   "execution_count": null,
   "metadata": {
    "collapsed": false
   },
   "outputs": [],
   "source": [
    "wordcloud = WordCloud(relative_scaling=.1).generate(CleanContent)\n",
    "plt.figure(figsize=(20, 15), dpi = 100)\n",
    "plt.imshow(wordcloud)\n",
    "plt.axis(\"off\")\n",
    "plt.show()"
   ]
  },
  {
   "cell_type": "code",
   "execution_count": null,
   "metadata": {
    "collapsed": false
   },
   "outputs": [],
   "source": [
    "state_coloring = imread('/Users/shanepiesik/Documents/Python II/10p/670')"
   ]
  },
  {
   "cell_type": "code",
   "execution_count": null,
   "metadata": {
    "collapsed": false
   },
   "outputs": [],
   "source": [
    "wc = WordCloud(background_color=\"white\", max_words=2000, mask=state_coloring,\n",
    "               stopwords=STOPWORDS.add(\"said\"),\n",
    "               max_font_size=40, random_state=42)\n",
    "# generate word cloud\n",
    "wc.generate(CleanContent)\n"
   ]
  },
  {
   "cell_type": "code",
   "execution_count": null,
   "metadata": {
    "collapsed": false
   },
   "outputs": [],
   "source": [
    "# create coloring from image\n",
    "image_colors = ImageColorGenerator(state_coloring)\n",
    "\n",
    "# we could also give color_func=image_colors directly in the constructor\n",
    "plt.imshow(wc.recolor(color_func=image_colors))\n",
    "plt.axis(\"off\")\n",
    "plt.figure()"
   ]
  },
  {
   "cell_type": "code",
   "execution_count": null,
   "metadata": {
    "collapsed": true
   },
   "outputs": [],
   "source": []
  },
  {
   "cell_type": "code",
   "execution_count": null,
   "metadata": {
    "collapsed": true
   },
   "outputs": [],
   "source": []
  }
 ],
 "metadata": {
  "anaconda-cloud": {},
  "kernelspec": {
   "display_name": "Python 3",
   "language": "python",
   "name": "python3"
  },
  "language_info": {
   "codemirror_mode": {
    "name": "ipython",
    "version": 3
   },
   "file_extension": ".py",
   "mimetype": "text/x-python",
   "name": "python",
   "nbconvert_exporter": "python",
   "pygments_lexer": "ipython3",
   "version": "3.5.2"
  }
 },
 "nbformat": 4,
 "nbformat_minor": 0
}
